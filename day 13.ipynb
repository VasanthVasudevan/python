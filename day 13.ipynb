{
 "cells": [
  {
   "cell_type": "code",
   "execution_count": 1,
   "id": "ec9ebdfe-0273-488a-9ffa-40347749b5db",
   "metadata": {},
   "outputs": [
    {
     "name": "stdout",
     "output_type": "stream",
     "text": [
      "division by zero is not acceptable\n"
     ]
    }
   ],
   "source": [
    "class Calculator:\n",
    "    def __init__(self, n1, r1):\n",
    "        self.a = n1\n",
    "        self.b = r1\n",
    "\n",
    "    def add(self):\n",
    "        try:\n",
    "            print(\"add of a & b:\", self.a + self.b)\n",
    "        except ValueError:\n",
    "            print(\"enter correct value\")\n",
    "        except NameError:\n",
    "            print(\"enter only number\")\n",
    "\n",
    "    def sub(self):\n",
    "        try:\n",
    "            print(\"sub of a & b:\", self.a - self.b)\n",
    "        except ValueError:\n",
    "            print(\"enter correct value\")\n",
    "        except NameError:\n",
    "            print(\"enter only number\")\n",
    "\n",
    "    def mul(self):\n",
    "        try:\n",
    "            print(\"mul of a & b:\", self.a * self.b)\n",
    "        except ValueError:\n",
    "            print(\"enter correct value\")\n",
    "        except NameError:\n",
    "            print(\"enter only number\")\n",
    "    \n",
    "    def div(self):\n",
    "        try:\n",
    "            print(\"div of a & b:\", self.a / self.b)\n",
    "        except ZeroDivisionError:\n",
    "            print(\"division by zero is not acceptable\")\n",
    "        except NameError:\n",
    "            print(\"enter only number\")\n",
    "        except Exception as e:\n",
    "            print(\"error in try block : \", e)\n",
    "obj = Calculator(10,0)\n",
    "obj.div()"
   ]
  },
  {
   "cell_type": "code",
   "execution_count": 57,
   "id": "0212db65-b6fd-4944-afaa-c9236c1c8a27",
   "metadata": {},
   "outputs": [
    {
     "name": "stdin",
     "output_type": "stream",
     "text": [
      "Enter A value 2\n",
      "Enter B value 3\n"
     ]
    },
    {
     "name": "stdout",
     "output_type": "stream",
     "text": [
      "Add of a & b: 5\n",
      "Sub of a & b: -1\n",
      "Mul of a & b: 6\n",
      "Div of a & b: 0.6666666666666666\n"
     ]
    }
   ],
   "source": [
    "class Calculator:\n",
    "    def __init__(self):\n",
    "        try:\n",
    "            self.a = int(input(\"Enter A value\"))\n",
    "            self.b = int(input(\"Enter B value\"))\n",
    "        except ValueError:\n",
    "            print(\"enter only number\")\n",
    "            self.a = 0\n",
    "            self.b = 1 \n",
    "    def add(self):\n",
    "        try:\n",
    "            print(\"add of a & b:\", self.a + self.b)\n",
    "        except Exception as e:\n",
    "            print(\"error in add\", e)\n",
    "    def sub(self):\n",
    "        try:\n",
    "            print(\"sub of a & b:\", self.a - self.b)\n",
    "        except Exception as e:\n",
    "            print(\"error in sub\", e)\n",
    "    def mul(self):\n",
    "        try:\n",
    "            print(\"mul of a & b:\", self.a * self.b)\n",
    "        except Exception as e:\n",
    "            print(\"error in multiply\", e)\n",
    "    def div(self):\n",
    "        try:\n",
    "            print(\"div of a & b:\", self.a / self.b)\n",
    "        except ZeroDivisionError:\n",
    "            print(\"zero cannot divisible\")\n",
    "        except Exception as e:\n",
    "            print(\"Error in div\", e)\n",
    "obj = Calculator()\n",
    "obj.add()\n",
    "obj.sub()\n",
    "obj.mul()\n",
    "obj.div()\n"
   ]
  },
  {
   "cell_type": "code",
   "execution_count": null,
   "id": "a7972cbb-26f2-4a38-ab1c-c96f2ddd655f",
   "metadata": {},
   "outputs": [
    {
     "name": "stdin",
     "output_type": "stream",
     "text": [
      "Enter first number:  5\n",
      "Enter second number:  4\n"
     ]
    },
    {
     "name": "stdout",
     "output_type": "stream",
     "text": [
      "\n",
      "Choose an operation:\n",
      "1. Add\n",
      "2. Subtract\n",
      "3. Multiply\n",
      "4. Divide\n",
      "5. Exit\n"
     ]
    },
    {
     "name": "stdin",
     "output_type": "stream",
     "text": [
      "Enter your choice (1-5):  4\n"
     ]
    },
    {
     "name": "stdout",
     "output_type": "stream",
     "text": [
      "Div of a & b: 1.25\n",
      "\n",
      "Choose an operation:\n",
      "1. Add\n",
      "2. Subtract\n",
      "3. Multiply\n",
      "4. Divide\n",
      "5. Exit\n"
     ]
    },
    {
     "name": "stdin",
     "output_type": "stream",
     "text": [
      "Enter your choice (1-5):  O\n"
     ]
    },
    {
     "name": "stdout",
     "output_type": "stream",
     "text": [
      "Invalid choice. Please enter a number from 1 to 5.\n",
      "\n",
      "Choose an operation:\n",
      "1. Add\n",
      "2. Subtract\n",
      "3. Multiply\n",
      "4. Divide\n",
      "5. Exit\n"
     ]
    }
   ],
   "source": [
    "MM"
   ]
  },
  {
   "cell_type": "code",
   "execution_count": null,
   "id": "3cf3003f-1b8e-4e83-8f68-9e132938983e",
   "metadata": {},
   "outputs": [],
   "source": [
    "5\n"
   ]
  }
 ],
 "metadata": {
  "kernelspec": {
   "display_name": "Python 3 (ipykernel)",
   "language": "python",
   "name": "python3"
  },
  "language_info": {
   "codemirror_mode": {
    "name": "ipython",
    "version": 3
   },
   "file_extension": ".py",
   "mimetype": "text/x-python",
   "name": "python",
   "nbconvert_exporter": "python",
   "pygments_lexer": "ipython3",
   "version": "3.12.7"
  }
 },
 "nbformat": 4,
 "nbformat_minor": 5
}
