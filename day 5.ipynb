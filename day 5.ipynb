{
 "cells": [
  {
   "cell_type": "code",
   "execution_count": 3,
   "id": "3659ba91-9c79-4a82-b2f1-3da4a5aa39c9",
   "metadata": {},
   "outputs": [
    {
     "name": "stdout",
     "output_type": "stream",
     "text": [
      "6\n"
     ]
    }
   ],
   "source": [
    "#bitwise operator\n",
    "print(6 | 4)"
   ]
  },
  {
   "cell_type": "code",
   "execution_count": 4,
   "id": "dd2dc40f-222f-4c02-ba14-99e41fdc3587",
   "metadata": {},
   "outputs": [
    {
     "name": "stdout",
     "output_type": "stream",
     "text": [
      "4\n"
     ]
    }
   ],
   "source": [
    "print(6 & 4)"
   ]
  },
  {
   "cell_type": "code",
   "execution_count": 5,
   "id": "45ca901b-75fb-44c5-90ad-60c68542bdfe",
   "metadata": {},
   "outputs": [
    {
     "name": "stdout",
     "output_type": "stream",
     "text": [
      "2\n"
     ]
    }
   ],
   "source": [
    "print(6 ^ 4)"
   ]
  },
  {
   "cell_type": "code",
   "execution_count": 6,
   "id": "396ba328-66d6-4708-aea6-85422f50d640",
   "metadata": {},
   "outputs": [
    {
     "name": "stdout",
     "output_type": "stream",
     "text": [
      "-7\n"
     ]
    }
   ],
   "source": [
    "print(~6)"
   ]
  },
  {
   "cell_type": "code",
   "execution_count": 7,
   "id": "3cd74d62-ec4e-4bfd-b4b9-c241815c1103",
   "metadata": {},
   "outputs": [
    {
     "name": "stdout",
     "output_type": "stream",
     "text": [
      "30\n"
     ]
    }
   ],
   "source": [
    "print(15<<1)"
   ]
  },
  {
   "cell_type": "code",
   "execution_count": 8,
   "id": "3943aa51-26b1-49a6-b634-3843c74d3a3b",
   "metadata": {},
   "outputs": [
    {
     "name": "stdout",
     "output_type": "stream",
     "text": [
      "7\n"
     ]
    }
   ],
   "source": [
    "print(15>>1)"
   ]
  },
  {
   "cell_type": "code",
   "execution_count": 7,
   "id": "524e0cb7-4e9f-4878-b056-fe91d680f3c4",
   "metadata": {},
   "outputs": [
    {
     "name": "stdout",
     "output_type": "stream",
     "text": [
      "true\n"
     ]
    }
   ],
   "source": [
    "a=3\n",
    "b=4\n",
    "if a&b & a|b:\n",
    "    print(\"true\")\n",
    "else:\n",
    "    print(\"false\")"
   ]
  },
  {
   "cell_type": "code",
   "execution_count": null,
   "id": "b984fb4c-c620-403c-adb1-5d88b1312eea",
   "metadata": {},
   "outputs": [],
   "source": []
  }
 ],
 "metadata": {
  "kernelspec": {
   "display_name": "Python 3 (ipykernel)",
   "language": "python",
   "name": "python3"
  },
  "language_info": {
   "codemirror_mode": {
    "name": "ipython",
    "version": 3
   },
   "file_extension": ".py",
   "mimetype": "text/x-python",
   "name": "python",
   "nbconvert_exporter": "python",
   "pygments_lexer": "ipython3",
   "version": "3.12.7"
  }
 },
 "nbformat": 4,
 "nbformat_minor": 5
}
