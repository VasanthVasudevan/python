{
 "cells": [
  {
   "cell_type": "code",
   "execution_count": 1,
   "id": "8ef812cd-8442-457f-8bff-10111f8fa210",
   "metadata": {},
   "outputs": [
    {
     "name": "stdout",
     "output_type": "stream",
     "text": [
      "[1 2 3]\n"
     ]
    }
   ],
   "source": [
    "import numpy as np\n",
    "a=np.array([1,2,3,4,5])\n",
    "print(a[0:3])"
   ]
  },
  {
   "cell_type": "code",
   "execution_count": 12,
   "id": "bb6e4b05-4092-43b0-aacf-3648109f1f29",
   "metadata": {},
   "outputs": [
    {
     "name": "stdout",
     "output_type": "stream",
     "text": [
      "[6 7 8]\n",
      "8\n"
     ]
    }
   ],
   "source": [
    "import numpy as np\n",
    "a=np.array([[1,2,3,4,5],[6,7,8,9,10]])\n",
    "print(a[1,0:3])\n",
    "print(a[1,2])"
   ]
  },
  {
   "cell_type": "code",
   "execution_count": 13,
   "id": "12e3e2c0-72dd-4c2e-bf4d-b4dcfa110eee",
   "metadata": {},
   "outputs": [
    {
     "name": "stdout",
     "output_type": "stream",
     "text": [
      "[12 13 14]\n",
      "13\n"
     ]
    }
   ],
   "source": [
    "import numpy as np\n",
    "a=np.array([[[1,2,3,4,5],[6,7,8,9,10]],[[11,12,13,14,15],[21,22,23,24,25]]])\n",
    "print(a[1,0,1:4])\n",
    "print(a[1,0,2])"
   ]
  },
  {
   "cell_type": "code",
   "execution_count": 8,
   "id": "f08d56bb-5460-447a-aab0-af35c9827cc1",
   "metadata": {},
   "outputs": [
    {
     "name": "stdout",
     "output_type": "stream",
     "text": [
      "[2 3 4 5 6]\n",
      "1\n"
     ]
    }
   ],
   "source": [
    "import numpy as np\n",
    "l=np.array([2,3,4,5,6])\n",
    "print(l)\n",
    "print(l.ndim)"
   ]
  },
  {
   "cell_type": "code",
   "execution_count": 9,
   "id": "0b7f5171-b771-45d4-8262-c67312f3a1de",
   "metadata": {},
   "outputs": [
    {
     "name": "stdout",
     "output_type": "stream",
     "text": [
      "[[ 2  3  4  5  6]\n",
      " [ 7  8  9 10 11]]\n",
      "2\n"
     ]
    }
   ],
   "source": [
    "import numpy as np\n",
    "l=np.array([[2,3,4,5,6],[7,8,9,10,11]])\n",
    "print(l)\n",
    "print(l.ndim)"
   ]
  },
  {
   "cell_type": "code",
   "execution_count": 14,
   "id": "53bb5675-1482-4bd5-93dd-0c67e6ad37e2",
   "metadata": {},
   "outputs": [
    {
     "name": "stdout",
     "output_type": "stream",
     "text": [
      "[[[ 2  3  4  5  6]\n",
      "  [ 7  8  9 10 11]]\n",
      "\n",
      " [[ 1  2  3  4  5]\n",
      "  [ 6  7  8  9  0]]]\n",
      "3\n"
     ]
    }
   ],
   "source": [
    "import numpy as np\n",
    "l=np.array([[[2,3,4,5,6],[7,8,9,10,11]],[[1,2,3,4,5],[6,7,8,9,0]]])\n",
    "print(l)\n",
    "print(l.ndim)"
   ]
  },
  {
   "cell_type": "code",
   "execution_count": 17,
   "id": "13dbca37-aa93-4a06-85b2-0db40d708311",
   "metadata": {},
   "outputs": [
    {
     "name": "stdout",
     "output_type": "stream",
     "text": [
      "[ 7  8  9 10]\n"
     ]
    }
   ],
   "source": [
    "import numpy as np\n",
    "l=np.array([[[2,3,4,5,6],[7,8,9,10,11]],[[1,2,3,4,5],[6,7,8,9,0]]])\n",
    "print(l[0,1,0:4])"
   ]
  },
  {
   "cell_type": "code",
   "execution_count": 18,
   "id": "e04649f5-ce19-4c32-bd1e-8c04ce8b4242",
   "metadata": {},
   "outputs": [
    {
     "name": "stdout",
     "output_type": "stream",
     "text": [
      "[1 2 3 4 5]\n"
     ]
    }
   ],
   "source": [
    "import numpy as np\n",
    "a=np.array([1,2,3,4,5])\n",
    "print(a)"
   ]
  },
  {
   "cell_type": "code",
   "execution_count": 21,
   "id": "029971a1-8c2e-4bb6-b292-ce7ce6e25fda",
   "metadata": {},
   "outputs": [
    {
     "name": "stdout",
     "output_type": "stream",
     "text": [
      "3\n"
     ]
    }
   ],
   "source": [
    "import numpy as np\n",
    "a=np.array([1,2,3,4,5])\n",
    "print(a[2])"
   ]
  }
 ],
 "metadata": {
  "kernelspec": {
   "display_name": "Python 3 (ipykernel)",
   "language": "python",
   "name": "python3"
  },
  "language_info": {
   "codemirror_mode": {
    "name": "ipython",
    "version": 3
   },
   "file_extension": ".py",
   "mimetype": "text/x-python",
   "name": "python",
   "nbconvert_exporter": "python",
   "pygments_lexer": "ipython3",
   "version": "3.12.7"
  }
 },
 "nbformat": 4,
 "nbformat_minor": 5
}
