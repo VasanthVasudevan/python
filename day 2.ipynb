{
 "cells": [
  {
   "cell_type": "code",
   "execution_count": 1,
   "id": "96879abb-88bc-4e77-ab4a-e5437bc765fc",
   "metadata": {},
   "outputs": [
    {
     "name": "stdout",
     "output_type": "stream",
     "text": [
      "<class 'int'>\n"
     ]
    }
   ],
   "source": [
    "a=10\n",
    "print(type(a))"
   ]
  },
  {
   "cell_type": "code",
   "execution_count": 2,
   "id": "ee123bec-578e-4517-96b8-8647ab125368",
   "metadata": {},
   "outputs": [
    {
     "name": "stdout",
     "output_type": "stream",
     "text": [
      "<class 'str'>\n"
     ]
    }
   ],
   "source": [
    "a=10\n",
    "a1=str(a)\n",
    "print(type(a1))"
   ]
  },
  {
   "cell_type": "code",
   "execution_count": 3,
   "id": "736b37a8-6156-405f-81b4-fece42aefa76",
   "metadata": {},
   "outputs": [
    {
     "name": "stdout",
     "output_type": "stream",
     "text": [
      "(8.5+0j)\n"
     ]
    }
   ],
   "source": [
    "a=8.5\n",
    "a1=complex(a)\n",
    "print(a1)"
   ]
  },
  {
   "cell_type": "code",
   "execution_count": 4,
   "id": "9e107344-8b59-4df4-9a3e-689b0adb2ca5",
   "metadata": {},
   "outputs": [
    {
     "name": "stdout",
     "output_type": "stream",
     "text": [
      "(10+0j)\n"
     ]
    }
   ],
   "source": [
    "a=\"10\"\n",
    "a1=complex(a)\n",
    "print(a1)"
   ]
  },
  {
   "cell_type": "code",
   "execution_count": 5,
   "id": "690997ee-86fc-414b-bf69-08aaa5001606",
   "metadata": {},
   "outputs": [
    {
     "ename": "ValueError",
     "evalue": "complex() arg is a malformed string",
     "output_type": "error",
     "traceback": [
      "\u001b[1;31m---------------------------------------------------------------------------\u001b[0m",
      "\u001b[1;31mValueError\u001b[0m                                Traceback (most recent call last)",
      "Cell \u001b[1;32mIn[5], line 2\u001b[0m\n\u001b[0;32m      1\u001b[0m a\u001b[38;5;241m=\u001b[39m\u001b[38;5;124m\"\u001b[39m\u001b[38;5;124mhi\u001b[39m\u001b[38;5;124m\"\u001b[39m\n\u001b[1;32m----> 2\u001b[0m a1\u001b[38;5;241m=\u001b[39m\u001b[38;5;28mcomplex\u001b[39m(a)\n\u001b[0;32m      3\u001b[0m \u001b[38;5;28mprint\u001b[39m(a1)\n",
      "\u001b[1;31mValueError\u001b[0m: complex() arg is a malformed string"
     ]
    }
   ],
   "source": [
    "a=\"hi\"\n",
    "a1=complex(a)\n",
    "print(a1)"
   ]
  },
  {
   "cell_type": "code",
   "execution_count": 8,
   "id": "838f771f-eda8-45c9-a130-6c5e0c3c259b",
   "metadata": {},
   "outputs": [
    {
     "name": "stdin",
     "output_type": "stream",
     "text": [
      " 2\n"
     ]
    },
    {
     "name": "stdout",
     "output_type": "stream",
     "text": [
      "2\n",
      "<class 'str'>\n"
     ]
    }
   ],
   "source": [
    "a=int(input())\n",
    "a1=str(a)\n",
    "print(a1)\n",
    "print(type(a1))"
   ]
  },
  {
   "cell_type": "code",
   "execution_count": 9,
   "id": "da17e7a3-8798-41ab-9036-65cee1533a1f",
   "metadata": {},
   "outputs": [
    {
     "name": "stdin",
     "output_type": "stream",
     "text": [
      " 2\n"
     ]
    },
    {
     "name": "stdout",
     "output_type": "stream",
     "text": [
      "2.0\n"
     ]
    }
   ],
   "source": [
    "a=float(input())\n",
    "print(a)"
   ]
  },
  {
   "cell_type": "code",
   "execution_count": 1,
   "id": "3e925536-4f2a-4f55-8997-8c817520568d",
   "metadata": {},
   "outputs": [
    {
     "name": "stdout",
     "output_type": "stream",
     "text": [
      "18\n"
     ]
    }
   ],
   "source": [
    "k=\"hello howw are you\"\n",
    "print(len(k))"
   ]
  },
  {
   "cell_type": "code",
   "execution_count": 3,
   "id": "82b74c41-8b5e-4424-9a70-bf0c283e10e0",
   "metadata": {},
   "outputs": [
    {
     "name": "stdout",
     "output_type": "stream",
     "text": [
      "o\n"
     ]
    }
   ],
   "source": [
    "k= \"hello how are you\"\n",
    "print(k[4])"
   ]
  },
  {
   "cell_type": "code",
   "execution_count": 4,
   "id": "c38a2604-57aa-4d4b-9cee-4ac5beffcf71",
   "metadata": {},
   "outputs": [
    {
     "name": "stdout",
     "output_type": "stream",
     "text": [
      "y\n"
     ]
    }
   ],
   "source": [
    "k= \"hello how are you\"\n",
    "print(k[-3])"
   ]
  },
  {
   "cell_type": "code",
   "execution_count": 5,
   "id": "66d42d52-16d8-426c-90c6-91806a8bbf0c",
   "metadata": {},
   "outputs": [
    {
     "name": "stdout",
     "output_type": "stream",
     "text": [
      "how ar\n"
     ]
    }
   ],
   "source": [
    "k=\"how are you\"\n",
    "print(k[0:6])"
   ]
  },
  {
   "cell_type": "code",
   "execution_count": 10,
   "id": "5f2905ba-64a5-4212-a46e-7e7f3d5b02d9",
   "metadata": {},
   "outputs": [
    {
     "name": "stdout",
     "output_type": "stream",
     "text": [
      "re y\n"
     ]
    }
   ],
   "source": [
    "k=\"how are you\"\n",
    "print(k[-6:-2])"
   ]
  },
  {
   "cell_type": "code",
   "execution_count": 12,
   "id": "fa7286e0-ac8e-451c-b7cb-04881b9a6b18",
   "metadata": {},
   "outputs": [
    {
     "name": "stdout",
     "output_type": "stream",
     "text": [
      "HELLO WORLD\n"
     ]
    }
   ],
   "source": [
    "a=\"hello world\"\n",
    "a1=a.upper()\n",
    "print(a1)"
   ]
  },
  {
   "cell_type": "code",
   "execution_count": 13,
   "id": "f771e068-85ce-4eba-991d-456b9e49bc62",
   "metadata": {},
   "outputs": [
    {
     "name": "stdout",
     "output_type": "stream",
     "text": [
      "Hello world\n"
     ]
    }
   ],
   "source": [
    "a=\"hello world\"\n",
    "print(a.capitalize())"
   ]
  },
  {
   "cell_type": "code",
   "execution_count": 14,
   "id": "c6df312b-10d8-4136-ba51-8a39821e48cb",
   "metadata": {},
   "outputs": [
    {
     "name": "stdout",
     "output_type": "stream",
     "text": [
      "['hello', 'world']\n"
     ]
    }
   ],
   "source": [
    "a=\"hello world\"\n",
    "print(a.split())"
   ]
  },
  {
   "cell_type": "code",
   "execution_count": 17,
   "id": "425c09d3-b897-4462-87ab-1f61bac96e81",
   "metadata": {},
   "outputs": [
    {
     "name": "stdout",
     "output_type": "stream",
     "text": [
      "2\n",
      "world\n"
     ]
    }
   ],
   "source": [
    "a=\"hello world\"\n",
    "b=a.split()\n",
    "print(len(b))\n",
    "print(b[1])"
   ]
  },
  {
   "cell_type": "code",
   "execution_count": 19,
   "id": "6f87ebd6-dc96-46f3-a835-c6eee293586c",
   "metadata": {},
   "outputs": [
    {
     "name": "stdout",
     "output_type": "stream",
     "text": [
      "hello world\n",
      "11\n",
      "11\n"
     ]
    }
   ],
   "source": [
    "a=\"hello world\"\n",
    "print(a.strip())\n",
    "b=a.strip()\n",
    "print(len(a))\n",
    "print(len(b))"
   ]
  },
  {
   "cell_type": "code",
   "execution_count": 23,
   "id": "e7e6a76b-d095-4644-946a-dd34d8179c0a",
   "metadata": {},
   "outputs": [
    {
     "name": "stdin",
     "output_type": "stream",
     "text": [
      "enter your name siva\n",
      "enter you native chennai\n",
      "enter your age 21\n"
     ]
    },
    {
     "name": "stdout",
     "output_type": "stream",
     "text": [
      "i am siva,from chennai,age is 21\n"
     ]
    }
   ],
   "source": [
    "Name=input(\"enter your name\")\n",
    "Native=input(\"enter you native\")\n",
    "age=int(input(\"enter your age\"))\n",
    "k=f\"i am {Name},from {Native},age is {age}\"\n",
    "print(k)"
   ]
  },
  {
   "cell_type": "code",
   "execution_count": 28,
   "id": "27ea7a4e-de3e-4406-905d-2b555ce312cd",
   "metadata": {},
   "outputs": [
    {
     "name": "stdout",
     "output_type": "stream",
     "text": [
      "i am  siva\n"
     ]
    }
   ],
   "source": [
    "name=\"siva\"\n",
    "print(\"i am \",name)"
   ]
  },
  {
   "cell_type": "code",
   "execution_count": 32,
   "id": "e4b39e72-0056-4575-9400-778ceb103142",
   "metadata": {},
   "outputs": [
    {
     "name": "stdin",
     "output_type": "stream",
     "text": [
      "enter your name siva\n",
      "enter you native trichy\n",
      "enter your age 21\n"
     ]
    },
    {
     "name": "stdout",
     "output_type": "stream",
     "text": [
      "iam siva fromtrichy age is 21\n"
     ]
    }
   ],
   "source": [
    "Name=input(\"enter your name\")\n",
    "Native=input(\"enter you native\")\n",
    "age=int(input(\"enter your age\"))\n",
    "op=f\"iam {Name} from {Native} age is {age}\"\n",
    "print(op)"
   ]
  },
  {
   "cell_type": "code",
   "execution_count": null,
   "id": "b8c4a6f9-be49-43ea-856e-5c7fbf6ac277",
   "metadata": {},
   "outputs": [],
   "source": [
    "                    "
   ]
  }
 ],
 "metadata": {
  "kernelspec": {
   "display_name": "Python 3 (ipykernel)",
   "language": "python",
   "name": "python3"
  },
  "language_info": {
   "codemirror_mode": {
    "name": "ipython",
    "version": 3
   },
   "file_extension": ".py",
   "mimetype": "text/x-python",
   "name": "python",
   "nbconvert_exporter": "python",
   "pygments_lexer": "ipython3",
   "version": "3.12.7"
  }
 },
 "nbformat": 4,
 "nbformat_minor": 5
}
