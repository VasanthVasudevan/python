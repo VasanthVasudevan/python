{
 "cells": [
  {
   "cell_type": "code",
   "execution_count": 1,
   "id": "b5e1bad6-78e9-42af-bb58-f05c096cdcab",
   "metadata": {},
   "outputs": [
    {
     "name": "stdout",
     "output_type": "stream",
     "text": [
      "1 *2= 2\n",
      "2 *2= 4\n",
      "3 *2= 6\n",
      "4 *2= 8\n",
      "5 *2= 10\n",
      "6 *2= 12\n",
      "7 *2= 14\n",
      "8 *2= 16\n",
      "9 *2= 18\n"
     ]
    }
   ],
   "source": [
    "#two table\n",
    "def table():\n",
    "    for i in range(1,10):\n",
    "        print(i,\"*2=\",i*2)\n",
    "table()"
   ]
  },
  {
   "cell_type": "code",
   "execution_count": 24,
   "id": "74a7e019-8eb6-4a87-96a9-1e8fab767a8b",
   "metadata": {},
   "outputs": [
    {
     "name": "stdout",
     "output_type": "stream",
     "text": [
      "[1, 2, 3, 4]\n"
     ]
    }
   ],
   "source": [
    "#remove duplicate using set\n",
    "l=[1,1,2,2,3,3,4,4]\n",
    "k=set(l)\n",
    "l=list(k)\n",
    "print(l)"
   ]
  },
  {
   "cell_type": "code",
   "execution_count": 12,
   "id": "e156b40e-11b0-45f0-82b6-6e46b16374f9",
   "metadata": {},
   "outputs": [
    {
     "name": "stdout",
     "output_type": "stream",
     "text": [
      "\n",
      "4\n"
     ]
    }
   ],
   "source": [
    "#sorting list using sort function\n",
    "a=[1,9,3,4]\n",
    "a.sort()\n",
    "print()\n",
    "print(a[-2])"
   ]
  },
  {
   "cell_type": "code",
   "execution_count": 19,
   "id": "2303216e-80c2-4a1c-a2eb-d209142065b9",
   "metadata": {},
   "outputs": [
    {
     "name": "stdout",
     "output_type": "stream",
     "text": [
      "not anagram\n"
     ]
    }
   ],
   "source": [
    "#anagram without using sort function\n",
    "def anagram():\n",
    "    str1=\"listen\"\n",
    "    str2=\"helloworld\"\n",
    "    if len(str1)==len(str2):\n",
    "        for i in str1:\n",
    "            if i in str2:\n",
    "                print(\"anagram\")\n",
    "            else:\n",
    "                print(\"not anagram\")\n",
    "    else:\n",
    "        print(\"not anagram\")\n",
    "anagram()"
   ]
  },
  {
   "cell_type": "code",
   "execution_count": 21,
   "id": "9aeea5a6-b698-4365-a713-d1e8fe59554c",
   "metadata": {},
   "outputs": [
    {
     "ename": "FileNotFoundError",
     "evalue": "[Errno 2] No such file or directory: 'file handling.txt'",
     "output_type": "error",
     "traceback": [
      "\u001b[1;31m---------------------------------------------------------------------------\u001b[0m",
      "\u001b[1;31mFileNotFoundError\u001b[0m                         Traceback (most recent call last)",
      "Cell \u001b[1;32mIn[21], line 1\u001b[0m\n\u001b[1;32m----> 1\u001b[0m f\u001b[38;5;241m=\u001b[39m\u001b[38;5;28mopen\u001b[39m(\u001b[38;5;124m\"\u001b[39m\u001b[38;5;124mfile handling.txt\u001b[39m\u001b[38;5;124m\"\u001b[39m,\u001b[38;5;124m\"\u001b[39m\u001b[38;5;124mr\u001b[39m\u001b[38;5;124m\"\u001b[39m)\n\u001b[0;32m      2\u001b[0m f\u001b[38;5;241m.\u001b[39mread()\n",
      "File \u001b[1;32m~\\anaconda3\\Lib\\site-packages\\IPython\\core\\interactiveshell.py:324\u001b[0m, in \u001b[0;36m_modified_open\u001b[1;34m(file, *args, **kwargs)\u001b[0m\n\u001b[0;32m    317\u001b[0m \u001b[38;5;28;01mif\u001b[39;00m file \u001b[38;5;129;01min\u001b[39;00m {\u001b[38;5;241m0\u001b[39m, \u001b[38;5;241m1\u001b[39m, \u001b[38;5;241m2\u001b[39m}:\n\u001b[0;32m    318\u001b[0m     \u001b[38;5;28;01mraise\u001b[39;00m \u001b[38;5;167;01mValueError\u001b[39;00m(\n\u001b[0;32m    319\u001b[0m         \u001b[38;5;124mf\u001b[39m\u001b[38;5;124m\"\u001b[39m\u001b[38;5;124mIPython won\u001b[39m\u001b[38;5;124m'\u001b[39m\u001b[38;5;124mt let you open fd=\u001b[39m\u001b[38;5;132;01m{\u001b[39;00mfile\u001b[38;5;132;01m}\u001b[39;00m\u001b[38;5;124m by default \u001b[39m\u001b[38;5;124m\"\u001b[39m\n\u001b[0;32m    320\u001b[0m         \u001b[38;5;124m\"\u001b[39m\u001b[38;5;124mas it is likely to crash IPython. If you know what you are doing, \u001b[39m\u001b[38;5;124m\"\u001b[39m\n\u001b[0;32m    321\u001b[0m         \u001b[38;5;124m\"\u001b[39m\u001b[38;5;124myou can use builtins\u001b[39m\u001b[38;5;124m'\u001b[39m\u001b[38;5;124m open.\u001b[39m\u001b[38;5;124m\"\u001b[39m\n\u001b[0;32m    322\u001b[0m     )\n\u001b[1;32m--> 324\u001b[0m \u001b[38;5;28;01mreturn\u001b[39;00m io_open(file, \u001b[38;5;241m*\u001b[39margs, \u001b[38;5;241m*\u001b[39m\u001b[38;5;241m*\u001b[39mkwargs)\n",
      "\u001b[1;31mFileNotFoundError\u001b[0m: [Errno 2] No such file or directory: 'file handling.txt'"
     ]
    }
   ],
   "source": [
    "f=open(\"file handling.txt\",\"r\")\n",
    "f.read()"
   ]
  },
  {
   "cell_type": "code",
   "execution_count": 29,
   "id": "cc51ef93-3e7d-450a-a9fc-5b4d59f85f47",
   "metadata": {},
   "outputs": [
    {
     "name": "stdout",
     "output_type": "stream",
     "text": [
      "4\n"
     ]
    }
   ],
   "source": [
    "# find maximum value\n",
    "l=[1,2,3,4]\n",
    "k=l[0]\n",
    "for i in l:\n",
    "    if i > k:\n",
    "        k=i\n",
    "print(k)"
   ]
  },
  {
   "cell_type": "code",
   "execution_count": 39,
   "id": "4f3408fb-c4e7-4825-b0b4-9016d9178bec",
   "metadata": {},
   "outputs": [
    {
     "name": "stdout",
     "output_type": "stream",
     "text": [
      "no second number\n"
     ]
    }
   ],
   "source": [
    "#find second maximum value in list\n",
    "a=[10,20,30,40]\n",
    "first=second=float('-inf')\n",
    "for i in a:\n",
    "   if i>first:\n",
    "       second=first\n",
    "       first=i\n",
    "   elif i>second and i!= first:\n",
    "       second=i\n",
    "if second==float('-inf'):\n",
    "    print(\"no second number\")\n",
    "else:\n",
    "    print(second)\n",
    "    \n",
    "       \n",
    "        \n",
    "        \n"
   ]
  },
  {
   "cell_type": "code",
   "execution_count": 36,
   "id": "87f9c5b5-e730-4828-8a52-d9a7a11fa7fb",
   "metadata": {},
   "outputs": [
    {
     "name": "stdout",
     "output_type": "stream",
     "text": [
      "Second largest number is: 35\n"
     ]
    }
   ],
   "source": [
    "numbers = [10, 20, 40, 25, 35]\n",
    "\n",
    "first = second = float('-inf')\n",
    "\n",
    "for num in numbers:\n",
    "    if num > first:\n",
    "        second = first\n",
    "        first = num\n",
    "    elif num > second and num != first:\n",
    "        second = num\n",
    "\n",
    "if second == float('-inf'):\n",
    "    print(\"There is no second largest number.\")\n",
    "else:\n",
    "    print(\"Second largest number is:\", second)\n"
   ]
  },
  {
   "cell_type": "code",
   "execution_count": 8,
   "id": "629f0a41-a074-44e2-99dc-bf4cb25984d8",
   "metadata": {},
   "outputs": [
    {
     "name": "stdin",
     "output_type": "stream",
     "text": [
      " 7\n"
     ]
    },
    {
     "name": "stdout",
     "output_type": "stream",
     "text": [
      "prime\n"
     ]
    }
   ],
   "source": [
    "#check prime or not prime\n",
    "a=int(input())\n",
    "if a<=1:\n",
    "    print(\"not prime\")\n",
    "elif a==2:\n",
    "    print(\"prime\")\n",
    "elif a%2==0:\n",
    "    print(\"not prime\")\n",
    "else:\n",
    "    for i in range(3,int(a **0.5)+1,2):\n",
    "        if a%i==0:\n",
    "            print(\"not prime\")\n",
    "    else:\n",
    "        print(\"prime\")"
   ]
  },
  {
   "cell_type": "code",
   "execution_count": 11,
   "id": "b16fc0fa-4cf3-45e4-a13e-ba0295be6ba3",
   "metadata": {},
   "outputs": [
    {
     "name": "stdin",
     "output_type": "stream",
     "text": [
      " 7\n"
     ]
    },
    {
     "name": "stdout",
     "output_type": "stream",
     "text": [
      "0112358"
     ]
    }
   ],
   "source": [
    "#fibonacci series\n",
    "n=int(input())\n",
    "a,b=0,1\n",
    "for i in range(n):\n",
    "    print(a,end='')\n",
    "    a,b=b,a+b\n"
   ]
  },
  {
   "cell_type": "code",
   "execution_count": 13,
   "id": "99965bce-8509-4178-9967-1cbfd055fb09",
   "metadata": {},
   "outputs": [
    {
     "name": "stdout",
     "output_type": "stream",
     "text": [
      "2\n"
     ]
    }
   ],
   "source": [
    "#find smallest number\n",
    "l=[6,2,3,4]\n",
    "k=l[0]\n",
    "for i in l:\n",
    "    if i < k:\n",
    "        k=i\n",
    "print(k)"
   ]
  },
  {
   "cell_type": "code",
   "execution_count": 14,
   "id": "36b3ffef-8a8f-4943-b15a-d2b0970dcace",
   "metadata": {},
   "outputs": [
    {
     "name": "stdout",
     "output_type": "stream",
     "text": [
      "20\n"
     ]
    }
   ],
   "source": [
    "#find second smallest number\n",
    "a=[10,20,30,40]\n",
    "first=second=float('+inf')\n",
    "for i in a:\n",
    "   if i<first:\n",
    "       second=first\n",
    "       first=i\n",
    "   elif i<second and i!= first:\n",
    "       second=i\n",
    "if second==float('+inf'):\n",
    "    print(\"no second number\")\n",
    "else:\n",
    "    print(second)\n",
    "    "
   ]
  },
  {
   "cell_type": "code",
   "execution_count": 2,
   "id": "833aedff-4332-41d8-b4da-a2fd385c8651",
   "metadata": {},
   "outputs": [
    {
     "name": "stdout",
     "output_type": "stream",
     "text": [
      "[1, 2, 3, 3, 5, 6, 8]\n"
     ]
    }
   ],
   "source": [
    "#sorting in ascending order without using sort functin\n",
    "a=[2,5,1,3,6,3,8,]\n",
    "b=[]\n",
    "while a:\n",
    "    minvalue=a[0]\n",
    "    for i in a:\n",
    "        if minvalue>i:\n",
    "            minvalue=i\n",
    "    b.append(minvalue)\n",
    "    a.remove(minvalue)\n",
    "print(b)            "
   ]
  },
  {
   "cell_type": "code",
   "execution_count": 17,
   "id": "4907db88-9212-4087-ac04-590140e40baf",
   "metadata": {},
   "outputs": [
    {
     "name": "stdout",
     "output_type": "stream",
     "text": [
      "[8, 6, 5, 3, 3, 2, 1]\n"
     ]
    }
   ],
   "source": [
    "#sorting in descending order without using sort functin\n",
    "a=[2,5,1,3,6,3,8,]\n",
    "b=[]\n",
    "while a:\n",
    "    minvalue=a[0]\n",
    "    for i in a:\n",
    "        if minvalue<i:\n",
    "            minvalue=i\n",
    "    b.append(minvalue)\n",
    "    a.remove(minvalue)\n",
    "print(b)            "
   ]
  },
  {
   "cell_type": "code",
   "execution_count": 35,
   "id": "78b93736-3fca-4534-a48c-0b99b9b76ccb",
   "metadata": {},
   "outputs": [
    {
     "name": "stdin",
     "output_type": "stream",
     "text": [
      "Enter a number:  234\n"
     ]
    },
    {
     "name": "stdout",
     "output_type": "stream",
     "text": [
      "Sum of digits of 234 is 9\n"
     ]
    }
   ],
   "source": [
    "# sum of digit\n",
    "def sum_of_digits(n):\n",
    "    total = 0\n",
    "    while n > 0:\n",
    "        digit = n % 10       # Get the last digit\n",
    "        total += digit       # Add it to total\n",
    "        n = n // 10          # Remove the last digit\n",
    "    return total\n",
    "\n",
    "# Example usage\n",
    "num = int(input(\"Enter a number: \"))\n",
    "result = sum_of_digits(num)\n",
    "print(f\"Sum of digits of {num} is {result}\")\n"
   ]
  },
  {
   "cell_type": "code",
   "execution_count": 43,
   "id": "5c379b18-8910-4a65-8942-8d5bac252d91",
   "metadata": {},
   "outputs": [
    {
     "name": "stdin",
     "output_type": "stream",
     "text": [
      " 234\n"
     ]
    },
    {
     "name": "stdout",
     "output_type": "stream",
     "text": [
      "9\n"
     ]
    }
   ],
   "source": [
    "#sum of digit\n",
    "a=int(input())\n",
    "total=0\n",
    "while a>0:\n",
    "    digit=a%10\n",
    "    total+=digit\n",
    "    a=a//10\n",
    "print(total)"
   ]
  },
  {
   "cell_type": "code",
   "execution_count": 3,
   "id": "3ae063ce-0d56-4850-8d46-05f91e0dcf5e",
   "metadata": {},
   "outputs": [
    {
     "name": "stdout",
     "output_type": "stream",
     "text": [
      "4\n",
      "3\n"
     ]
    }
   ],
   "source": [
    "#check it is vowels or not\n",
    "def vvowels():\n",
    "    word=\"asiough\"\n",
    "    vowels=\"aeiouAEIOU\"\n",
    "    vcount=0\n",
    "    ccount=0\n",
    "    for i in word:\n",
    "        if i in vowels:\n",
    "            vcount+=1\n",
    "        else:\n",
    "            ccount+=1\n",
    "    print(vcount)\n",
    "    print(ccount)\n",
    "vvowels()            \n"
   ]
  },
  {
   "cell_type": "code",
   "execution_count": 5,
   "id": "70044cea-bda0-4c6a-a343-107c4834abd3",
   "metadata": {},
   "outputs": [
    {
     "name": "stdin",
     "output_type": "stream",
     "text": [
      " 4\n"
     ]
    },
    {
     "name": "stdout",
     "output_type": "stream",
     "text": [
      "even\n"
     ]
    }
   ],
   "source": [
    "#check even or odd\n",
    "def eoro():\n",
    "    a=int(input())\n",
    "    if(a%2==0):\n",
    "        print(\"even\")\n",
    "    else:\n",
    "        print(\"odd\")\n",
    "eoro()"
   ]
  },
  {
   "cell_type": "code",
   "execution_count": 11,
   "id": "23f8c9fb-3d77-44c5-9f9a-8b9ea0ae6b39",
   "metadata": {},
   "outputs": [
    {
     "name": "stdin",
     "output_type": "stream",
     "text": [
      "Enter a number:  4\n"
     ]
    },
    {
     "name": "stdout",
     "output_type": "stream",
     "text": [
      "Factorial of 4 is 24\n"
     ]
    }
   ],
   "source": [
    "#check factorial\n",
    "def factorial_iterative(n):\n",
    "    result = 1\n",
    "    for i in range(1, n + 1):\n",
    "        result *= i\n",
    "    return result\n",
    "\n",
    "# Example usage\n",
    "num = int(input(\"Enter a number: \"))\n",
    "print(f\"Factorial of {num} is {factorial_iterative(num)}\")\n"
   ]
  },
  {
   "cell_type": "code",
   "execution_count": 13,
   "id": "d9680e66-264a-4e69-8f51-120d01181f58",
   "metadata": {},
   "outputs": [
    {
     "name": "stdout",
     "output_type": "stream",
     "text": [
      "24\n"
     ]
    }
   ],
   "source": [
    "# factorial\n",
    "a=4\n",
    "n=1\n",
    "for i in range(1,a+1):\n",
    "    n*=i\n",
    "print(n)"
   ]
  },
  {
   "cell_type": "code",
   "execution_count": 29,
   "id": "4ab4a698-c473-4085-aa1c-dffb1526ac54",
   "metadata": {},
   "outputs": [
    {
     "name": "stdout",
     "output_type": "stream",
     "text": [
      "[1, 2, 3, 4]\n"
     ]
    }
   ],
   "source": [
    "# remove duplicates in list wuthout using sort function\n",
    "l=[1,1,2,2,3,3,4,4]\n",
    "k=[]\n",
    "for i in l:\n",
    "    if i not in k:\n",
    "        k.append(i)\n",
    "print(k)"
   ]
  },
  {
   "cell_type": "code",
   "execution_count": 35,
   "id": "3dc89346-9976-47f7-a734-731fb78c28d1",
   "metadata": {},
   "outputs": [
    {
     "name": "stdout",
     "output_type": "stream",
     "text": [
      "78\n",
      "2\n"
     ]
    }
   ],
   "source": [
    "def findsmaxmin():\n",
    "    l=[1,2,3,4,1,78,90]\n",
    "    k=[]\n",
    "    for i in l:\n",
    "        if i not in k:\n",
    "            k.append(i)\n",
    "    k.sort()\n",
    "    smax=k[-2]\n",
    "    smin=k[1]\n",
    "   # return smax,smin\n",
    "#smax,smin=findsmaxmin(s)\n",
    "    print(smax)\n",
    "    print(smin)\n",
    "findsmaxmin()"
   ]
  },
  {
   "cell_type": "code",
   "execution_count": 2,
   "id": "1c705b77-d3c6-45b8-9a92-68cb79cfe608",
   "metadata": {},
   "outputs": [
    {
     "name": "stdout",
     "output_type": "stream",
     "text": [
      "40\n",
      "2\n"
     ]
    }
   ],
   "source": [
    "# find second max and min value in list\n",
    "a=[10,20,30,40,90,1,2]\n",
    "first=second=float('-inf')\n",
    "for i in a:\n",
    "   if i>first:\n",
    "       second=first\n",
    "       first=i\n",
    "   elif i>second and i!= first:\n",
    "       second=i\n",
    "if second==float('-inf'):\n",
    "    print(\"no second number\")\n",
    "else:\n",
    "    print(second)\n",
    "    \n",
    "first=second=float('+inf')\n",
    "for i in a:\n",
    "   if i<first:\n",
    "       second=first\n",
    "       first=i\n",
    "   elif i<second and i!= first:\n",
    "       second=i\n",
    "if second==float('+inf'):\n",
    "    print(\"no second number\")\n",
    "else:\n",
    "    print(second)\n",
    "           \n",
    "        "
   ]
  },
  {
   "cell_type": "code",
   "execution_count": 40,
   "id": "beddc4f1-92d1-48c4-8bbb-adfdbaacd528",
   "metadata": {},
   "outputs": [
    {
     "name": "stdin",
     "output_type": "stream",
     "text": [
      " 2024\n"
     ]
    },
    {
     "name": "stdout",
     "output_type": "stream",
     "text": [
      " its leap year \n"
     ]
    }
   ],
   "source": [
    "#check if leap year\n",
    "def leapyear(s):\n",
    "    if s%4 and s%100!=0 or s%400:\n",
    "        print(\" its leap year \")\n",
    "    else:\n",
    "        print(\"its not leap year\")\n",
    "\n",
    "year=int(input())\n",
    "leapyear(year)"
   ]
  },
  {
   "cell_type": "code",
   "execution_count": 1,
   "id": "b5cd86fc-b6e2-4722-a422-ea1c020e5938",
   "metadata": {},
   "outputs": [
    {
     "name": "stdout",
     "output_type": "stream",
     "text": [
      "false\n"
     ]
    }
   ],
   "source": [
    "a=10\n",
    "if a>10:\n",
    "    print(\"true\")\n",
    "else:\n",
    "    print(\"false\")"
   ]
  },
  {
   "cell_type": "code",
   "execution_count": 1,
   "id": "e8980d70-a030-4cac-a33c-2b432921af2c",
   "metadata": {},
   "outputs": [
    {
     "name": "stdout",
     "output_type": "stream",
     "text": [
      "[90, 78, 50, 47, 1]\n"
     ]
    }
   ],
   "source": [
    "#descending sorting\n",
    "l=[50,1,47,90,78]\n",
    "for i in range(len(l)):\n",
    "    for j in range(len(l)):\n",
    "        if l[i]>l[j]:\n",
    "            l[i],l[j]=l[j],l[i]\n",
    "print(l)"
   ]
  },
  {
   "cell_type": "code",
   "execution_count": 2,
   "id": "0b746767-5abd-442e-a48c-5e812540d12a",
   "metadata": {},
   "outputs": [
    {
     "name": "stdout",
     "output_type": "stream",
     "text": [
      "[1, 47, 50, 78, 90]\n"
     ]
    }
   ],
   "source": [
    "#ascending sorting\n",
    "l=[50,1,47,90,78]\n",
    "for i in range(len(l)):\n",
    "    for j in range(len(l)):\n",
    "        if l[i]<l[j]:\n",
    "            l[i],l[j]=l[j],l[i]\n",
    "print(l)"
   ]
  },
  {
   "cell_type": "code",
   "execution_count": 4,
   "id": "61a48f0b-f02f-49ff-a420-0f6a450b3d1c",
   "metadata": {},
   "outputs": [
    {
     "name": "stdout",
     "output_type": "stream",
     "text": [
      "90\n"
     ]
    }
   ],
   "source": [
    "#find maximum value in list\n",
    "l=[50,1,47,90,78]\n",
    "for i in range(len(l)):\n",
    "    for j in range(len(l)):\n",
    "        if l[i]>l[j]:\n",
    "            l[i],l[j]=l[j],l[i]\n",
    "print(l[0])"
   ]
  },
  {
   "cell_type": "code",
   "execution_count": 5,
   "id": "07cbee72-e249-4af1-b6ff-bf85898c717c",
   "metadata": {},
   "outputs": [
    {
     "name": "stdout",
     "output_type": "stream",
     "text": [
      "1\n"
     ]
    }
   ],
   "source": [
    "#find minimum value\n",
    "l=[50,1,47,90,78]\n",
    "for i in range(len(l)):\n",
    "    for j in range(len(l)):\n",
    "        if l[i]>l[j]:\n",
    "            l[i],l[j]=l[j],l[i]\n",
    "print(l[-1]) "
   ]
  },
  {
   "cell_type": "code",
   "execution_count": null,
   "id": "e319be5f-96bd-46e2-bfcb-d03d135ffd16",
   "metadata": {},
   "outputs": [],
   "source": [
    "num=[2,7,11,15]\n",
    "target=26\n",
    "for i in range(len(num)):\n",
    "    for j in range(i+1,len(num)):\n",
    "        if num[i]+num[j]==target:\n",
    "            print(i,j)"
   ]
  }
 ],
 "metadata": {
  "kernelspec": {
   "display_name": "Python 3 (ipykernel)",
   "language": "python",
   "name": "python3"
  },
  "language_info": {
   "codemirror_mode": {
    "name": "ipython",
    "version": 3
   },
   "file_extension": ".py",
   "mimetype": "text/x-python",
   "name": "python",
   "nbconvert_exporter": "python",
   "pygments_lexer": "ipython3",
   "version": "3.12.7"
  }
 },
 "nbformat": 4,
 "nbformat_minor": 5
}
