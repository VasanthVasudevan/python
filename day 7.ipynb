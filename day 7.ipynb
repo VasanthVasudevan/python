{
 "cells": [
  {
   "cell_type": "code",
   "execution_count": 7,
   "id": "4cae7888-5e64-4ad2-a2c5-e91b98706ca2",
   "metadata": {},
   "outputs": [
    {
     "name": "stdout",
     "output_type": "stream",
     "text": [
      "<class 'list'>\n",
      "[1, 2, 3, 4, 5, 6, 7, 8]\n",
      "<class 'list'>\n",
      "(1, 2, 3, 4, 5, 6, 7, 8)\n",
      "<class 'tuple'>\n"
     ]
    }
   ],
   "source": [
    "k=(1,2,3,4,)\n",
    "k1=(5,6,7,8,)\n",
    "k2=list(k)\n",
    "k3=list(k1)\n",
    "print(type(k2))\n",
    "k2.extend(k3)\n",
    "print(k2)\n",
    "k=k2\n",
    "print(type(k))\n",
    "k=(tuple(k))\n",
    "print(k)\n",
    "print(type(k))\n"
   ]
  },
  {
   "cell_type": "code",
   "execution_count": 8,
   "id": "5dd23083-5e64-45f7-9302-7b09663128fc",
   "metadata": {},
   "outputs": [
    {
     "name": "stdout",
     "output_type": "stream",
     "text": [
      "{False, True, 2, 3, 4, 'orange', 'banana', 'apple'}\n"
     ]
    }
   ],
   "source": [
    "#set\n",
    "myset={\"apple\",\"banana\",\"orange\",True,False,0,1,2,3,4,1,0 }\n",
    "print(myset)"
   ]
  },
  {
   "cell_type": "code",
   "execution_count": 9,
   "id": "8d00a4e9-d70d-4a1d-8bc9-84fa0d8d674b",
   "metadata": {},
   "outputs": [
    {
     "name": "stdout",
     "output_type": "stream",
     "text": [
      "8\n"
     ]
    }
   ],
   "source": [
    "print(len(myset))"
   ]
  },
  {
   "cell_type": "code",
   "execution_count": 11,
   "id": "f494b9c5-f515-42ae-b28e-545231fb2337",
   "metadata": {},
   "outputs": [
    {
     "name": "stdout",
     "output_type": "stream",
     "text": [
      "{1, 2, 3, 4, 5}\n"
     ]
    }
   ],
   "source": [
    "a={1,2,3,4,5,1,2,1,2,1,}\n",
    "print(a)"
   ]
  },
  {
   "cell_type": "code",
   "execution_count": 14,
   "id": "996105bd-21bb-4e77-9c26-85c2fc8e395f",
   "metadata": {},
   "outputs": [
    {
     "name": "stdout",
     "output_type": "stream",
     "text": [
      "{'pappaya', 'orange', 'apple', 'banana'}\n"
     ]
    }
   ],
   "source": [
    "myset={\"apple\",\"orange\",\"banana\"}\n",
    "myset.add(\"pappaya\")\n",
    "print(myset)"
   ]
  },
  {
   "cell_type": "code",
   "execution_count": 15,
   "id": "be117130-e432-4ed7-8ab4-4a2c39d03289",
   "metadata": {},
   "outputs": [
    {
     "name": "stdout",
     "output_type": "stream",
     "text": [
      "{'apple', 'aa', 'bb', 'orange', 'banana', 'cc'}\n"
     ]
    }
   ],
   "source": [
    "myset={\"apple\",\"orange\",\"banana\"}\n",
    "myset1={\"aa\",\"bb\",\"cc\"}\n",
    "myset.update(myset1)\n",
    "print(myset)"
   ]
  },
  {
   "cell_type": "code",
   "execution_count": null,
   "id": "fa1a4d60-e885-408b-99b0-ae31248cf7fc",
   "metadata": {},
   "outputs": [],
   "source": [
    "myset={\"apple\",\"orange\",\"banana\"}\n",
    "myset.remove(\"apple\")\n",
    "print(myset)"
   ]
  }
 ],
 "metadata": {
  "kernelspec": {
   "display_name": "Python 3 (ipykernel)",
   "language": "python",
   "name": "python3"
  },
  "language_info": {
   "codemirror_mode": {
    "name": "ipython",
    "version": 3
   },
   "file_extension": ".py",
   "mimetype": "text/x-python",
   "name": "python",
   "nbconvert_exporter": "python",
   "pygments_lexer": "ipython3",
   "version": "3.12.7"
  }
 },
 "nbformat": 4,
 "nbformat_minor": 5
}
