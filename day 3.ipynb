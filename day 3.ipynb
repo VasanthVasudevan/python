{
 "cells": [
  {
   "cell_type": "code",
   "execution_count": 1,
   "id": "bdb42082-eccc-4b77-b74a-7d4b4bb26f3b",
   "metadata": {},
   "outputs": [
    {
     "name": "stdout",
     "output_type": "stream",
     "text": [
      "False\n"
     ]
    }
   ],
   "source": [
    "a=\"how are you.\"\n",
    "b=a.endswith(\"u\")\n",
    "print(b)"
   ]
  },
  {
   "cell_type": "code",
   "execution_count": 2,
   "id": "32f1a4b9-25cb-4e6a-915f-2e120a1e3a79",
   "metadata": {},
   "outputs": [
    {
     "name": "stdout",
     "output_type": "stream",
     "text": [
      "13\n"
     ]
    }
   ],
   "source": [
    "a=\"what is your name\"\n",
    "b=a.find(\"name\")\n",
    "print(b)"
   ]
  },
  {
   "cell_type": "code",
   "execution_count": 6,
   "id": "eb050c7a-c282-4ac5-92da-6e16a2318b6e",
   "metadata": {},
   "outputs": [
    {
     "name": "stdout",
     "output_type": "stream",
     "text": [
      "hello sam!\n",
      "{70: 73}\n"
     ]
    }
   ],
   "source": [
    "mydict={70: 73}\n",
    "txt=\"hello sam!\"\n",
    "print(txt.translate(mydict))\n",
    "print(mydict)"
   ]
  },
  {
   "cell_type": "code",
   "execution_count": 3,
   "id": "41ddda52-9542-416e-91a2-408f1844bfc2",
   "metadata": {},
   "outputs": [
    {
     "name": "stdout",
     "output_type": "stream",
     "text": [
      "hello ram\n"
     ]
    }
   ],
   "source": [
    "a=\"hello sam\"\n",
    "b=str.maketrans(\"s\",\"r\")\n",
    "c=(a.translate(b))\n",
    "print(c)"
   ]
  },
  {
   "cell_type": "code",
   "execution_count": 4,
   "id": "e4fe1836-d0d1-469d-8fce-b8ad0cf6e896",
   "metadata": {},
   "outputs": [
    {
     "name": "stdout",
     "output_type": "stream",
     "text": [
      "('i eat ', 'apple', ' every day')\n"
     ]
    }
   ],
   "source": [
    "a=\"i eat apple every day\"\n",
    "b=a.partition(\"apple\")\n",
    "print(b)"
   ]
  },
  {
   "cell_type": "code",
   "execution_count": null,
   "id": "f051bc97-fb03-48e0-a37c-9facd9c7e257",
   "metadata": {},
   "outputs": [],
   "source": []
  }
 ],
 "metadata": {
  "kernelspec": {
   "display_name": "Python 3 (ipykernel)",
   "language": "python",
   "name": "python3"
  },
  "language_info": {
   "codemirror_mode": {
    "name": "ipython",
    "version": 3
   },
   "file_extension": ".py",
   "mimetype": "text/x-python",
   "name": "python",
   "nbconvert_exporter": "python",
   "pygments_lexer": "ipython3",
   "version": "3.12.7"
  }
 },
 "nbformat": 4,
 "nbformat_minor": 5
}
