{
 "cells": [
  {
   "cell_type": "code",
   "execution_count": 1,
   "id": "8177ee59-82d7-40c8-be29-78f4181665fd",
   "metadata": {},
   "outputs": [
    {
     "name": "stdout",
     "output_type": "stream",
     "text": [
      "[1, 22, 3, 44, 55, 6, 4, 11, 1200]\n"
     ]
    }
   ],
   "source": [
    "l=[1,22,3,44,55,6,11,1200]\n",
    "l.insert(6,4)\n",
    "print(l)"
   ]
  },
  {
   "cell_type": "code",
   "execution_count": 2,
   "id": "ea5ac202-241d-4104-aa01-e765b5c7173e",
   "metadata": {},
   "outputs": [
    {
     "name": "stdout",
     "output_type": "stream",
     "text": [
      "[1, 22, 3, 55, 6, 11, 1200]\n"
     ]
    }
   ],
   "source": [
    "l=[1,22,3,44,55,6,11,1200]\n",
    "l.remove(44)\n",
    "print(l)"
   ]
  },
  {
   "cell_type": "code",
   "execution_count": 3,
   "id": "59685725-54f3-4a02-9e3b-0a7f0f1268ea",
   "metadata": {},
   "outputs": [
    {
     "name": "stdout",
     "output_type": "stream",
     "text": [
      "[1, 22, 3, 44, 55, 6, 11, 1200, 88]\n"
     ]
    }
   ],
   "source": [
    "l=[1,22,3,44,55,6,11,1200]\n",
    "l.append(88)\n",
    "print(l)"
   ]
  },
  {
   "cell_type": "code",
   "execution_count": 4,
   "id": "2288890d-27bd-4522-a0b6-ee9b58dca890",
   "metadata": {},
   "outputs": [
    {
     "name": "stdout",
     "output_type": "stream",
     "text": [
      "[1, 22, 44, 55, 6, 11, 1200]\n"
     ]
    }
   ],
   "source": [
    "l=[1,22,3,44,55,6,11,1200]\n",
    "l.pop(2)\n",
    "print(l)"
   ]
  },
  {
   "cell_type": "code",
   "execution_count": 5,
   "id": "7cd2acba-9e04-4a6c-98f6-763289acd5c6",
   "metadata": {},
   "outputs": [
    {
     "name": "stdout",
     "output_type": "stream",
     "text": [
      "[1, 22, 3, 44, 55, 6, 11, 1200, 1, 2, 3, 546]\n"
     ]
    }
   ],
   "source": [
    "l=[1,22,3,44,55,6,11,1200]\n",
    "m=[1,2,3,546]\n",
    "l.extend(m)\n",
    "print(l)"
   ]
  },
  {
   "cell_type": "code",
   "execution_count": 29,
   "id": "f26890d5-653d-46a9-bffb-710db7bb6c03",
   "metadata": {},
   "outputs": [
    {
     "name": "stdout",
     "output_type": "stream",
     "text": [
      "HelloWPythonorld\n"
     ]
    }
   ],
   "source": [
    "s = \"HelloWorld\"\n",
    "new_s = s[:6] + \"Python\" + s[6:]\n",
    "print(new_s)\n"
   ]
  },
  {
   "cell_type": "code",
   "execution_count": 50,
   "id": "c2c009b7-4be4-41d8-809e-b1fde6d5b9dc",
   "metadata": {},
   "outputs": [
    {
     "name": "stdout",
     "output_type": "stream",
     "text": [
      "Hello\n"
     ]
    }
   ],
   "source": [
    "s=\"HelloWorld\"\n",
    "s1=s.replace(\"World\",\"\")\n",
    "print(s1)"
   ]
  },
  {
   "cell_type": "code",
   "execution_count": 55,
   "id": "2bd6beb1-6477-48e4-8132-dbb22d58cea0",
   "metadata": {},
   "outputs": [
    {
     "name": "stdout",
     "output_type": "stream",
     "text": [
      "Helloworld2024\n"
     ]
    }
   ],
   "source": [
    "s=\"Helloworld\"\n",
    "s+=\"2024\"\n",
    "print(s)"
   ]
  },
  {
   "cell_type": "code",
   "execution_count": 56,
   "id": "3589a62d-aa35-4f5d-a428-2ddeff3732f3",
   "metadata": {},
   "outputs": [
    {
     "name": "stdout",
     "output_type": "stream",
     "text": [
      "Heloworld\n"
     ]
    }
   ],
   "source": [
    "s = \"Helloworld\"\n",
    "s1= s[:2] + s[3:]\n",
    "print(s1)\n"
   ]
  },
  {
   "cell_type": "code",
   "execution_count": 59,
   "id": "63a652d2-e81a-4178-a39a-e91125c79259",
   "metadata": {},
   "outputs": [
    {
     "name": "stdout",
     "output_type": "stream",
     "text": [
      "HelloWorldprogramming\n"
     ]
    }
   ],
   "source": [
    "s=\"HelloWorld\"\n",
    "t=\"programming\"\n",
    "s1=s+t\n",
    "print(s1)"
   ]
  },
  {
   "cell_type": "code",
   "execution_count": 76,
   "id": "27b7254d-a926-4025-bf9a-8c25860590fb",
   "metadata": {},
   "outputs": [
    {
     "name": "stdout",
     "output_type": "stream",
     "text": [
      "true\n"
     ]
    }
   ],
   "source": [
    "def palindrome():\n",
    "    inputword=\"madam\"\n",
    "    return inputword==inputword[::-1]\n",
    "if palindrome():\n",
    "    print(\"true\")\n",
    "else:\n",
    "    print(\"false\")"
   ]
  },
  {
   "cell_type": "code",
   "execution_count": 83,
   "id": "75b9d0ab-8afa-4914-a8dc-b26150debadb",
   "metadata": {},
   "outputs": [
    {
     "name": "stdout",
     "output_type": "stream",
     "text": [
      "true\n"
     ]
    }
   ],
   "source": [
    "def anagram():\n",
    "    str1=\"listen\"\n",
    "    str2=\"silent\"\n",
    "    str1.lower()\n",
    "    str2.lower()\n",
    "    return sorted(str1)==sorted(str2)\n",
    "if anagram():\n",
    "    print(\"true\")\n",
    "else:\n",
    "    print(\"false\")"
   ]
  },
  {
   "cell_type": "code",
   "execution_count": 7,
   "id": "0abc6bf9-d682-4f35-86fc-9effad56cca0",
   "metadata": {},
   "outputs": [
    {
     "name": "stdin",
     "output_type": "stream",
     "text": [
      " 4\n",
      " 5\n",
      " add\n"
     ]
    },
    {
     "name": "stdout",
     "output_type": "stream",
     "text": [
      "9\n"
     ]
    }
   ],
   "source": [
    "def calculator():\n",
    "    try:\n",
    "        a=int(input())\n",
    "        b=int(input())\n",
    "        operation=input()\n",
    "        if operation ==\"add\":\n",
    "            print(a+b)\n",
    "        elif operation==\"sub\":\n",
    "            print(a-b)\n",
    "        elif operation ==\"mul\":\n",
    "            print(a*b)\n",
    "        elif operation ==\"div\":\n",
    "            print(a/b)\n",
    "        else:\n",
    "            print(\"put correct operation\")\n",
    "    except ValueError:\n",
    "        print(\"enter only number\")\n",
    "    except NameError:\n",
    "        print(\"enter valid value\")\n",
    "    except exception as e:\n",
    "        print(e)\n",
    "calculator()\n",
    "\n",
    "        \n",
    "        \n",
    "    "
   ]
  },
  {
   "cell_type": "code",
   "execution_count": null,
   "id": "59f86726-710a-46d5-add3-65f4d1af227b",
   "metadata": {},
   "outputs": [],
   "source": []
  }
 ],
 "metadata": {
  "kernelspec": {
   "display_name": "Python 3 (ipykernel)",
   "language": "python",
   "name": "python3"
  },
  "language_info": {
   "codemirror_mode": {
    "name": "ipython",
    "version": 3
   },
   "file_extension": ".py",
   "mimetype": "text/x-python",
   "name": "python",
   "nbconvert_exporter": "python",
   "pygments_lexer": "ipython3",
   "version": "3.12.7"
  }
 },
 "nbformat": 4,
 "nbformat_minor": 5
}
