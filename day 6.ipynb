{
 "cells": [
  {
   "cell_type": "code",
   "execution_count": 2,
   "id": "49a25132-7d91-42c6-bf54-bc2447f28d7e",
   "metadata": {},
   "outputs": [
    {
     "name": "stdout",
     "output_type": "stream",
     "text": [
      "[' helllo', 'hi', 'hlo']\n",
      "[' helllo', ['hii'], 'hlo']\n"
     ]
    }
   ],
   "source": [
    "word=[\" helllo\",\"hi\",\"hlo\"]\n",
    "print(word)\n",
    "word[1]=[\"hii\"]\n",
    "print(word)"
   ]
  },
  {
   "cell_type": "code",
   "execution_count": 4,
   "id": "3dd9fb69-d234-4434-a8bf-3b1d493403a9",
   "metadata": {},
   "outputs": [
    {
     "name": "stdout",
     "output_type": "stream",
     "text": [
      " helllo\n"
     ]
    }
   ],
   "source": [
    "word=[\" helllo\",\"hi\",\"hlo\"]\n",
    "print(word[0])"
   ]
  },
  {
   "cell_type": "code",
   "execution_count": 7,
   "id": "e61e9d60-53fb-458d-bf60-dfec207ed5db",
   "metadata": {},
   "outputs": [
    {
     "name": "stdout",
     "output_type": "stream",
     "text": [
      "[11, 12, 13, 14, 15, 17, 18, 7]\n"
     ]
    }
   ],
   "source": [
    "k=[1,2,3,4,5,6,7]\n",
    "k[0:6]=[11,12,13,14,15,17,18]\n",
    "print(k)"
   ]
  },
  {
   "cell_type": "code",
   "execution_count": 8,
   "id": "cc3770b8-fff7-46f4-85ae-787b1d633651",
   "metadata": {},
   "outputs": [
    {
     "name": "stdout",
     "output_type": "stream",
     "text": [
      "[11, 12, 13, 14, 15, 5, 6, 7]\n"
     ]
    }
   ],
   "source": [
    "k=[1,2,3,4,5,6,7]\n",
    "k[ :4]=[11,12,13,14,15]\n",
    "print(k)"
   ]
  },
  {
   "cell_type": "code",
   "execution_count": 9,
   "id": "20d44dda-f701-499c-b9d0-d112c719900c",
   "metadata": {},
   "outputs": [
    {
     "name": "stdout",
     "output_type": "stream",
     "text": [
      "['apple', 'apple1', 'apple2', 'watermelon']\n"
     ]
    }
   ],
   "source": [
    "mylist=[\"apple\",\"orange\",\"watermelon\"]\n",
    "mylist[1:2]=[\"apple1\",\"apple2\"]\n",
    "print(mylist)"
   ]
  },
  {
   "cell_type": "code",
   "execution_count": 10,
   "id": "7c3264e3-c3c7-4ca1-82fd-23ccbb16a345",
   "metadata": {},
   "outputs": [
    {
     "name": "stdout",
     "output_type": "stream",
     "text": [
      "[2, 'hlo', 'hii', 4]\n"
     ]
    }
   ],
   "source": [
    "k=[2,\"hlo\",\"hii\",4]\n",
    "print(k)"
   ]
  },
  {
   "cell_type": "code",
   "execution_count": 11,
   "id": "f7ef28fa-8115-43d9-a355-4edf4daf70cb",
   "metadata": {},
   "outputs": [
    {
     "name": "stdout",
     "output_type": "stream",
     "text": [
      "['hi', 'hllo', 'hlo1', 'hi', 'hii']\n"
     ]
    }
   ],
   "source": [
    "list1=[\"hi\",\"hllo\",\"hlo1\",\"hi\"]\n",
    "list1.append(\"hii\")\n",
    "print(list1)"
   ]
  },
  {
   "cell_type": "code",
   "execution_count": 13,
   "id": "da47ae1d-8a1d-4e5a-9d5f-bc6e01827154",
   "metadata": {},
   "outputs": [
    {
     "name": "stdout",
     "output_type": "stream",
     "text": [
      "['hi', 'hllo', 'hlo1', 'hi', 'what', 'where', 'who']\n"
     ]
    }
   ],
   "source": [
    "list1=[\"hi\",\"hllo\",\"hlo1\",\"hi\"]\n",
    "list2=[\"what\",\"where\",\"who\"]\n",
    "list1.extend(list2)\n",
    "print(list1)"
   ]
  },
  {
   "cell_type": "code",
   "execution_count": 14,
   "id": "f52f953e-914a-4e01-ae47-58193e6cff1a",
   "metadata": {},
   "outputs": [
    {
     "name": "stdout",
     "output_type": "stream",
     "text": [
      "['hi', 'hlo1', 'hi']\n"
     ]
    }
   ],
   "source": [
    "list1=[\"hi\",\"hllo\",\"hlo1\",\"hi\"]\n",
    "list1.remove(\"hllo\")\n",
    "print(list1)"
   ]
  },
  {
   "cell_type": "code",
   "execution_count": 15,
   "id": "e770d450-aa80-4a93-87cc-dd7e6d2c343b",
   "metadata": {},
   "outputs": [
    {
     "name": "stdout",
     "output_type": "stream",
     "text": [
      "['hi', 'hllo', 'hi']\n"
     ]
    }
   ],
   "source": [
    "list1=[\"hi\",\"hllo\",\"hlo1\",\"hi\"]\n",
    "list1.pop(2)\n",
    "print(list1)"
   ]
  },
  {
   "cell_type": "code",
   "execution_count": 16,
   "id": "0e7bb672-623d-434a-ad97-a95cbf06d54b",
   "metadata": {},
   "outputs": [
    {
     "name": "stdout",
     "output_type": "stream",
     "text": [
      "['hi', 'hllo', 'hlo1']\n"
     ]
    }
   ],
   "source": [
    "list1=[\"hi\",\"hllo\",\"hlo1\",\"hi\"]\n",
    "list1.pop()\n",
    "print(list1)"
   ]
  },
  {
   "cell_type": "code",
   "execution_count": 17,
   "id": "f758de49-4230-45b1-b797-b551ff71fa30",
   "metadata": {},
   "outputs": [
    {
     "name": "stdout",
     "output_type": "stream",
     "text": [
      "['hi', 'hllo', 'hii1', 'hlo1', 'hi']\n"
     ]
    }
   ],
   "source": [
    "list1=[\"hi\",\"hllo\",\"hlo1\",\"hi\"]\n",
    "list1.insert(2,\"hii1\")\n",
    "print(list1)"
   ]
  },
  {
   "cell_type": "code",
   "execution_count": 26,
   "id": "1b37136b-72a6-4d02-929c-2f889eba9e82",
   "metadata": {},
   "outputs": [
    {
     "name": "stdin",
     "output_type": "stream",
     "text": [
      " 14\n"
     ]
    },
    {
     "name": "stdout",
     "output_type": "stream",
     "text": [
      "you are not eligible\n"
     ]
    }
   ],
   "source": [
    "age=int(input())\n",
    "if age>=20:\n",
    "    name=input(\"enter name\")\n",
    "    no=int(input(\"enter no\"))\n",
    "    print(\"you'r eligible\")\n",
    "elif age>=15:\n",
    "    parentname=input(\"enter parent name\")\n",
    "    phno=int(input(\"enter ph no\"))\n",
    "    print(\"want parent permission\")\n",
    "else:\n",
    "    print(\"you are not eligible\")"
   ]
  },
  {
   "cell_type": "code",
   "execution_count": null,
   "id": "7c46fb1f-7b93-4420-8f13-9f413c2a06d4",
   "metadata": {},
   "outputs": [],
   "source": []
  }
 ],
 "metadata": {
  "kernelspec": {
   "display_name": "Python 3 (ipykernel)",
   "language": "python",
   "name": "python3"
  },
  "language_info": {
   "codemirror_mode": {
    "name": "ipython",
    "version": 3
   },
   "file_extension": ".py",
   "mimetype": "text/x-python",
   "name": "python",
   "nbconvert_exporter": "python",
   "pygments_lexer": "ipython3",
   "version": "3.12.7"
  }
 },
 "nbformat": 4,
 "nbformat_minor": 5
}
