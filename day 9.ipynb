{
 "cells": [
  {
   "cell_type": "code",
   "execution_count": 42,
   "id": "b3cacd38-165f-416b-b83d-ec5f3159e7df",
   "metadata": {},
   "outputs": [
    {
     "name": "stdout",
     "output_type": "stream",
     "text": [
      "div5= [0, 5, 10, 15, 20, 25]\n",
      "notdiv5= [1, 2, 3, 4, 6, 7, 8, 9, 11, 12, 13, 14, 16, 17, 18, 19, 21, 22, 23, 24]\n"
     ]
    }
   ],
   "source": [
    "div5=[]\n",
    "notdiv5=[]\n",
    "for i in range(0,26):\n",
    "    if i%5==0:\n",
    "        div5.append(i)\n",
    "    else:\n",
    "        notdiv5.append(i)\n",
    "print(\"div5=\",div5)\n",
    "print(\"notdiv5=\",notdiv5)"
   ]
  },
  {
   "cell_type": "code",
   "execution_count": 44,
   "id": "5e668d90-1d02-4c5a-bf25-3a7ed26a565b",
   "metadata": {},
   "outputs": [
    {
     "name": "stdout",
     "output_type": "stream",
     "text": [
      "len is 5\n"
     ]
    }
   ],
   "source": [
    "l=[5,6,78,8,99]\n",
    "count=0\n",
    "for i in l:\n",
    "    count+=1\n",
    "print(\"len is\",count)\n"
   ]
  },
  {
   "cell_type": "code",
   "execution_count": 6,
   "id": "1bdbbc23-8ca5-43ba-bd33-b5eea558dcc3",
   "metadata": {},
   "outputs": [
    {
     "name": "stdout",
     "output_type": "stream",
     "text": [
      "apple\n",
      "orange\n",
      "banana\n"
     ]
    }
   ],
   "source": [
    "a=(\"apple\",\"orange\",\"banana\")\n",
    "for i in a:\n",
    "    print(i)"
   ]
  },
  {
   "cell_type": "code",
   "execution_count": 7,
   "id": "46eab70e-c1ac-4a27-91ee-9ece64e2182c",
   "metadata": {},
   "outputs": [
    {
     "name": "stdout",
     "output_type": "stream",
     "text": [
      "a\n",
      "p\n",
      "p\n",
      "l\n",
      "e\n"
     ]
    }
   ],
   "source": [
    "a=(\"apple\")\n",
    "for i in a:\n",
    "    print(i)"
   ]
  },
  {
   "cell_type": "code",
   "execution_count": 14,
   "id": "16582487-e82a-499d-835a-fadb85ec8089",
   "metadata": {},
   "outputs": [
    {
     "name": "stdout",
     "output_type": "stream",
     "text": [
      "1\n",
      "2\n",
      "3\n",
      "4\n",
      "5\n",
      "7\n"
     ]
    }
   ],
   "source": [
    "a=(1,2,3,4,5,6,7)\n",
    "for i in a:\n",
    "    if i==6:\n",
    "        continue\n",
    "    else:\n",
    "        print(i)\n",
    "    "
   ]
  },
  {
   "cell_type": "code",
   "execution_count": 16,
   "id": "3f123e25-6d78-4902-8cec-4bd2f03a73d8",
   "metadata": {},
   "outputs": [
    {
     "name": "stdout",
     "output_type": "stream",
     "text": [
      "1\n",
      "2\n",
      "3\n",
      "4\n",
      "5\n",
      "7\n"
     ]
    }
   ],
   "source": [
    "a=(1,2,3,4,5,6,7)\n",
    "for i in a:\n",
    "    if i==6:\n",
    "        pass\n",
    "    else:\n",
    "        print(i)\n",
    "    "
   ]
  },
  {
   "cell_type": "code",
   "execution_count": 17,
   "id": "30e4652b-b52a-4518-a08e-02e0e3ab088f",
   "metadata": {},
   "outputs": [
    {
     "name": "stdout",
     "output_type": "stream",
     "text": [
      "1\n",
      "2\n",
      "3\n",
      "4\n",
      "5\n"
     ]
    }
   ],
   "source": [
    "a=(1,2,3,4,5,6,7)\n",
    "for i in a:\n",
    "    if i==6:\n",
    "        break\n",
    "    else:\n",
    "        print(i)\n",
    "    "
   ]
  },
  {
   "cell_type": "code",
   "execution_count": 38,
   "id": "97de7c29-f9fb-4aeb-bcf9-a732d2dd3a29",
   "metadata": {},
   "outputs": [
    {
     "name": "stdout",
     "output_type": "stream",
     "text": [
      "a\n",
      "b\n",
      "c\n"
     ]
    }
   ],
   "source": [
    "l={\"a\":10,\"b\":20,\"c\":30}\n",
    "for i in l.keys():\n",
    "     print(i)"
   ]
  },
  {
   "cell_type": "code",
   "execution_count": 39,
   "id": "4e982a3c-4818-45a2-bba7-2d61a78a9352",
   "metadata": {},
   "outputs": [
    {
     "name": "stdout",
     "output_type": "stream",
     "text": [
      "10\n",
      "20\n",
      "30\n"
     ]
    }
   ],
   "source": [
    "l={\"a\":10,\"b\":20,\"c\":30}\n",
    "for j in l.values():\n",
    "     print(j)"
   ]
  },
  {
   "cell_type": "code",
   "execution_count": 4,
   "id": "9a3c71e0-bc73-4e30-9e5e-efe32a5ec920",
   "metadata": {},
   "outputs": [
    {
     "name": "stdout",
     "output_type": "stream",
     "text": [
      "Second largest number is: 41\n"
     ]
    }
   ],
   "source": [
    "# Python program to find the second largest number in a list\n",
    "\n",
    "def find_second_largest(numbers):\n",
    "    if len(numbers) < 2:\n",
    "        return \"List must contain at least two elements.\"\n",
    "\n",
    "    first = second = float('-inf')\n",
    "    \n",
    "    for num in numbers:\n",
    "        if num > first:\n",
    "            second = first\n",
    "            first = num\n",
    "        elif first > num > second:\n",
    "            second = num\n",
    "    \n",
    "    if second == float('-inf'):\n",
    "        return \"There is no second largest number (all elements might be equal).\"\n",
    "    else:\n",
    "        return second\n",
    "\n",
    "# Example usage\n",
    "my_list = [12, 45, 2, 41, 31, 10]\n",
    "result = find_second_largest(my_list)\n",
    "print(\"Second largest number is:\", result)\n"
   ]
  },
  {
   "cell_type": "code",
   "execution_count": 5,
   "id": "4258db4c-741c-4822-8177-52f5359d9803",
   "metadata": {},
   "outputs": [
    {
     "ename": "SyntaxError",
     "evalue": "invalid syntax (2974984998.py, line 3)",
     "output_type": "error",
     "traceback": [
      "\u001b[1;36m  Cell \u001b[1;32mIn[5], line 3\u001b[1;36m\u001b[0m\n\u001b[1;33m    if i<=num(i--):\u001b[0m\n\u001b[1;37m                 ^\u001b[0m\n\u001b[1;31mSyntaxError\u001b[0m\u001b[1;31m:\u001b[0m invalid syntax\n"
     ]
    }
   ],
   "source": [
    "num=[2,3,4,5,6]\n",
    "for i in num:\n",
    "    if i<=num(i):\n",
    "        print(i)\n",
    "    else:\n",
    "        print(i)\n",
    "              "
   ]
  },
  {
   "cell_type": "code",
   "execution_count": null,
   "id": "7a491994-73da-4caa-a080-42dee8ed908a",
   "metadata": {},
   "outputs": [],
   "source": []
  }
 ],
 "metadata": {
  "kernelspec": {
   "display_name": "Python 3 (ipykernel)",
   "language": "python",
   "name": "python3"
  },
  "language_info": {
   "codemirror_mode": {
    "name": "ipython",
    "version": 3
   },
   "file_extension": ".py",
   "mimetype": "text/x-python",
   "name": "python",
   "nbconvert_exporter": "python",
   "pygments_lexer": "ipython3",
   "version": "3.12.7"
  }
 },
 "nbformat": 4,
 "nbformat_minor": 5
}
