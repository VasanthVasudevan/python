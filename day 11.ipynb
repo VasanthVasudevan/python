{
 "cells": [
  {
   "cell_type": "code",
   "execution_count": 7,
   "id": "51c213fc-31c6-404e-a0cc-e3f7c8bc8bca",
   "metadata": {},
   "outputs": [
    {
     "name": "stdout",
     "output_type": "stream",
     "text": [
      "15\n"
     ]
    }
   ],
   "source": [
    "def add():\n",
    "    a=5\n",
    "    b=10\n",
    "    print(a+b)\n",
    "add()"
   ]
  },
  {
   "cell_type": "code",
   "execution_count": null,
   "id": "7d3aaceb-c6cc-4e73-aa20-c8807afdc339",
   "metadata": {},
   "outputs": [],
   "source": [
    "def sub():\n",
    "    return a+b\n",
    "    print\n",
    "    "
   ]
  }
 ],
 "metadata": {
  "kernelspec": {
   "display_name": "Python 3 (ipykernel)",
   "language": "python",
   "name": "python3"
  },
  "language_info": {
   "codemirror_mode": {
    "name": "ipython",
    "version": 3
   },
   "file_extension": ".py",
   "mimetype": "text/x-python",
   "name": "python",
   "nbconvert_exporter": "python",
   "pygments_lexer": "ipython3",
   "version": "3.12.7"
  }
 },
 "nbformat": 4,
 "nbformat_minor": 5
}
