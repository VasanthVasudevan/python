{
 "cells": [
  {
   "cell_type": "code",
   "execution_count": 12,
   "id": "2922c8ff-6e03-4ff5-aa57-f2c0876430cb",
   "metadata": {},
   "outputs": [
    {
     "name": "stdout",
     "output_type": "stream",
     "text": [
      "{'name': 'anbu', 'age': 20, 'dep': 'cse', 'year': 2021}\n",
      "{'name': 'anbu', 'age': 20, 'dep': 'cse', 'year': 2021, 'passout': 2025}\n",
      "anbu\n",
      "20\n",
      "cse\n",
      "2021\n",
      "{'name': 'anbu', 'age': 20, 'dep': 'cse', 'year': 2021}\n"
     ]
    }
   ],
   "source": [
    "#dictionary\n",
    "dict1={\"name\":\"anbu\",\"age\":20,\"dep\":\"cse\",\"year\":2021}\n",
    "print(dict1)\n",
    "dict1.update({\"passout\":2025})\n",
    "print(dict1)\n",
    "print(dict1[\"name\"])\n",
    "print(dict1[\"age\"])\n",
    "print(dict1[\"dep\"])\n",
    "print(dict1[\"year\"])\n",
    "dict1.pop(\"passout\")\n",
    "print(dict1)"
   ]
  },
  {
   "cell_type": "code",
   "execution_count": 19,
   "id": "21f2bd84-2d48-4bb8-a1b6-1d56d0dd189f",
   "metadata": {},
   "outputs": [
    {
     "name": "stdout",
     "output_type": "stream",
     "text": [
      "{'cherry', 'watermelon', 'banana', 'apple', 'orange'}\n",
      "{'cherry', 'watermelon', 'banana', 'apple', 'orange'}\n",
      "{'apple'}\n",
      "{'apple'}\n"
     ]
    }
   ],
   "source": [
    "#set join\n",
    "set1={\"apple\",\"orange\",\"banana\"}\n",
    "set2={\"cherry\",\"apple\",\"watermelon\"}\n",
    "set3=set1.union(set2)\n",
    "print(set3)\n",
    "set4=set1|set2#union symbol\n",
    "print(set4)\n",
    "set5=set1.intersection(set2)\n",
    "print(set5)\n",
    "set6=set1&set2#inetrsection symbol\n",
    "print(set6)"
   ]
  },
  {
   "cell_type": "code",
   "execution_count": 21,
   "id": "660f4c6c-3009-475f-810d-b85dca356e33",
   "metadata": {},
   "outputs": [
    {
     "name": "stdout",
     "output_type": "stream",
     "text": [
      "{'banana', 'orange'}\n"
     ]
    }
   ],
   "source": [
    "#difference\n",
    "set1={\"apple\",\"orange\",\"banana\"}\n",
    "set2={\"cherry\",\"apple\",\"watermelon\"}\n",
    "set3=set1.difference(set2)\n",
    "print(set3)"
   ]
  },
  {
   "cell_type": "code",
   "execution_count": 23,
   "id": "e6272911-460e-48b0-bb8d-a6fde60b87e0",
   "metadata": {},
   "outputs": [
    {
     "name": "stdout",
     "output_type": "stream",
     "text": [
      "{'cherry', 'watermelon', 'banana', 'orange'}\n"
     ]
    }
   ],
   "source": [
    "# symmentric difference\n",
    "set1={\"apple\",\"orange\",\"banana\"}\n",
    "set2={\"cherry\",\"apple\",\"watermelon\"}\n",
    "set3=set1. symmetric_difference(set2)\n",
    "print(set3)"
   ]
  },
  {
   "cell_type": "code",
   "execution_count": null,
   "id": "e77e346e-f8b4-4b41-92e0-b0201a0cb073",
   "metadata": {},
   "outputs": [],
   "source": []
  }
 ],
 "metadata": {
  "kernelspec": {
   "display_name": "Python 3 (ipykernel)",
   "language": "python",
   "name": "python3"
  },
  "language_info": {
   "codemirror_mode": {
    "name": "ipython",
    "version": 3
   },
   "file_extension": ".py",
   "mimetype": "text/x-python",
   "name": "python",
   "nbconvert_exporter": "python",
   "pygments_lexer": "ipython3",
   "version": "3.12.7"
  }
 },
 "nbformat": 4,
 "nbformat_minor": 5
}
